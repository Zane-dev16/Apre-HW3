{
 "cells": [
  {
   "cell_type": "markdown",
   "metadata": {
    "vscode": {
     "languageId": "plaintext"
    }
   },
   "source": [
    "# II Programming and Critical Analysis"
   ]
  },
  {
   "cell_type": "markdown",
   "metadata": {},
   "source": [
    "## Setup"
   ]
  },
  {
   "cell_type": "code",
   "execution_count": 16,
   "metadata": {},
   "outputs": [],
   "source": [
    "import numpy as np\n",
    "import pandas as pd\n",
    "import matplotlib.pyplot as plt\n",
    "import sklearn\n",
    "\n",
    "from sklearn.neural_network import MLPRegressor\n",
    "from sklearn.metrics import mean_absolute_error\n",
    "from sklearn.model_selection import train_test_split\n",
    "from sklearn.linear_model import LinearRegression"
   ]
  },
  {
   "cell_type": "markdown",
   "metadata": {},
   "source": [
    "## Load Data"
   ]
  },
  {
   "cell_type": "code",
   "execution_count": 17,
   "metadata": {},
   "outputs": [],
   "source": [
    "parkinsons = pd.read_csv(\"Parkinsons data.csv\")"
   ]
  },
  {
   "cell_type": "code",
   "execution_count": 18,
   "metadata": {},
   "outputs": [
    {
     "data": {
      "text/html": [
       "<div>\n",
       "<style scoped>\n",
       "    .dataframe tbody tr th:only-of-type {\n",
       "        vertical-align: middle;\n",
       "    }\n",
       "\n",
       "    .dataframe tbody tr th {\n",
       "        vertical-align: top;\n",
       "    }\n",
       "\n",
       "    .dataframe thead th {\n",
       "        text-align: right;\n",
       "    }\n",
       "</style>\n",
       "<table border=\"1\" class=\"dataframe\">\n",
       "  <thead>\n",
       "    <tr style=\"text-align: right;\">\n",
       "      <th></th>\n",
       "      <th>age</th>\n",
       "      <th>sex</th>\n",
       "      <th>test_time</th>\n",
       "      <th>Jitter(%)</th>\n",
       "      <th>Jitter(Abs)</th>\n",
       "      <th>Jitter:RAP</th>\n",
       "      <th>Jitter:PPQ5</th>\n",
       "      <th>Jitter:DDP</th>\n",
       "      <th>Shimmer</th>\n",
       "      <th>Shimmer(dB)</th>\n",
       "      <th>Shimmer:APQ3</th>\n",
       "      <th>Shimmer:APQ5</th>\n",
       "      <th>Shimmer:APQ11</th>\n",
       "      <th>Shimmer:DDA</th>\n",
       "      <th>NHR</th>\n",
       "      <th>HNR</th>\n",
       "      <th>RPDE</th>\n",
       "      <th>DFA</th>\n",
       "      <th>PPE</th>\n",
       "      <th>target</th>\n",
       "    </tr>\n",
       "  </thead>\n",
       "  <tbody>\n",
       "    <tr>\n",
       "      <th>0</th>\n",
       "      <td>0.815695</td>\n",
       "      <td>-0.682509</td>\n",
       "      <td>-1.632090</td>\n",
       "      <td>0.082905</td>\n",
       "      <td>-0.284242</td>\n",
       "      <td>0.327453</td>\n",
       "      <td>-0.028637</td>\n",
       "      <td>0.328505</td>\n",
       "      <td>-0.324594</td>\n",
       "      <td>-0.351642</td>\n",
       "      <td>-0.209709</td>\n",
       "      <td>-0.423356</td>\n",
       "      <td>-0.543466</td>\n",
       "      <td>-0.209704</td>\n",
       "      <td>-0.298721</td>\n",
       "      <td>-0.009205</td>\n",
       "      <td>-1.214066</td>\n",
       "      <td>-1.478500</td>\n",
       "      <td>-0.650658</td>\n",
       "      <td>34.398</td>\n",
       "    </tr>\n",
       "    <tr>\n",
       "      <th>1</th>\n",
       "      <td>0.815695</td>\n",
       "      <td>-0.682509</td>\n",
       "      <td>-1.500676</td>\n",
       "      <td>-0.560793</td>\n",
       "      <td>-0.756723</td>\n",
       "      <td>-0.533746</td>\n",
       "      <td>-0.476212</td>\n",
       "      <td>-0.534825</td>\n",
       "      <td>-0.534016</td>\n",
       "      <td>-0.573156</td>\n",
       "      <td>-0.545158</td>\n",
       "      <td>-0.565592</td>\n",
       "      <td>-0.529955</td>\n",
       "      <td>-0.545153</td>\n",
       "      <td>-0.351965</td>\n",
       "      <td>1.282650</td>\n",
       "      <td>-1.055119</td>\n",
       "      <td>-1.247880</td>\n",
       "      <td>-1.218585</td>\n",
       "      <td>34.894</td>\n",
       "    </tr>\n",
       "    <tr>\n",
       "      <th>2</th>\n",
       "      <td>0.815695</td>\n",
       "      <td>-0.682509</td>\n",
       "      <td>-1.369410</td>\n",
       "      <td>-0.238944</td>\n",
       "      <td>-0.539382</td>\n",
       "      <td>-0.300038</td>\n",
       "      <td>-0.320767</td>\n",
       "      <td>-0.298983</td>\n",
       "      <td>-0.669115</td>\n",
       "      <td>-0.564469</td>\n",
       "      <td>-0.741592</td>\n",
       "      <td>-0.702426</td>\n",
       "      <td>-0.645545</td>\n",
       "      <td>-0.741587</td>\n",
       "      <td>-0.199370</td>\n",
       "      <td>0.318711</td>\n",
       "      <td>-0.784860</td>\n",
       "      <td>-1.540139</td>\n",
       "      <td>-0.103280</td>\n",
       "      <td>35.389</td>\n",
       "    </tr>\n",
       "  </tbody>\n",
       "</table>\n",
       "</div>"
      ],
      "text/plain": [
       "        age       sex  test_time  Jitter(%)  Jitter(Abs)  Jitter:RAP  \\\n",
       "0  0.815695 -0.682509  -1.632090   0.082905    -0.284242    0.327453   \n",
       "1  0.815695 -0.682509  -1.500676  -0.560793    -0.756723   -0.533746   \n",
       "2  0.815695 -0.682509  -1.369410  -0.238944    -0.539382   -0.300038   \n",
       "\n",
       "   Jitter:PPQ5  Jitter:DDP   Shimmer  Shimmer(dB)  Shimmer:APQ3  Shimmer:APQ5  \\\n",
       "0    -0.028637    0.328505 -0.324594    -0.351642     -0.209709     -0.423356   \n",
       "1    -0.476212   -0.534825 -0.534016    -0.573156     -0.545158     -0.565592   \n",
       "2    -0.320767   -0.298983 -0.669115    -0.564469     -0.741592     -0.702426   \n",
       "\n",
       "   Shimmer:APQ11  Shimmer:DDA       NHR       HNR      RPDE       DFA  \\\n",
       "0      -0.543466    -0.209704 -0.298721 -0.009205 -1.214066 -1.478500   \n",
       "1      -0.529955    -0.545153 -0.351965  1.282650 -1.055119 -1.247880   \n",
       "2      -0.645545    -0.741587 -0.199370  0.318711 -0.784860 -1.540139   \n",
       "\n",
       "        PPE  target  \n",
       "0 -0.650658  34.398  \n",
       "1 -1.218585  34.894  \n",
       "2 -0.103280  35.389  "
      ]
     },
     "execution_count": 18,
     "metadata": {},
     "output_type": "execute_result"
    }
   ],
   "source": [
    "parkinsons.head(3)"
   ]
  },
  {
   "cell_type": "markdown",
   "metadata": {},
   "source": [
    "## Separate Labels"
   ]
  },
  {
   "cell_type": "code",
   "execution_count": 26,
   "metadata": {},
   "outputs": [
    {
     "data": {
      "text/plain": [
       "pandas.core.frame.DataFrame"
      ]
     },
     "execution_count": 26,
     "metadata": {},
     "output_type": "execute_result"
    }
   ],
   "source": [
    "type(parkinsons)"
   ]
  },
  {
   "cell_type": "code",
   "execution_count": 29,
   "metadata": {},
   "outputs": [],
   "source": [
    "y = parkinsons[\"target\"]\n",
    "X = parkinsons.drop(\"target\", axis=1)"
   ]
  },
  {
   "cell_type": "markdown",
   "metadata": {},
   "source": [
    "## 5"
   ]
  },
  {
   "cell_type": "markdown",
   "metadata": {},
   "source": [
    "### Split dataset"
   ]
  },
  {
   "cell_type": "code",
   "execution_count": 48,
   "metadata": {},
   "outputs": [],
   "source": [
    "def train_and_evaluate(model, X_train, X_test, y_train, y_test):\n",
    "    model.fit(X_train, y_train)\n",
    "    y_pred = model.predict(X_test)\n",
    "    return mean_absolute_error(y_test, y_pred)"
   ]
  },
  {
   "cell_type": "code",
   "execution_count": 49,
   "metadata": {},
   "outputs": [],
   "source": [
    "linear_maes = []\n",
    "mlp_no_activation_maes = []\n",
    "mlp_relu_maes = []"
   ]
  },
  {
   "cell_type": "code",
   "execution_count": 51,
   "metadata": {},
   "outputs": [
    {
     "name": "stderr",
     "output_type": "stream",
     "text": [
      "/Users/irellzane/anaconda3/envs/irellenv/lib/python3.12/site-packages/sklearn/neural_network/_multilayer_perceptron.py:690: ConvergenceWarning: Stochastic Optimizer: Maximum iterations (200) reached and the optimization hasn't converged yet.\n",
      "  warnings.warn(\n",
      "/Users/irellzane/anaconda3/envs/irellenv/lib/python3.12/site-packages/sklearn/neural_network/_multilayer_perceptron.py:690: ConvergenceWarning: Stochastic Optimizer: Maximum iterations (200) reached and the optimization hasn't converged yet.\n",
      "  warnings.warn(\n",
      "/Users/irellzane/anaconda3/envs/irellenv/lib/python3.12/site-packages/sklearn/neural_network/_multilayer_perceptron.py:690: ConvergenceWarning: Stochastic Optimizer: Maximum iterations (200) reached and the optimization hasn't converged yet.\n",
      "  warnings.warn(\n",
      "/Users/irellzane/anaconda3/envs/irellenv/lib/python3.12/site-packages/sklearn/neural_network/_multilayer_perceptron.py:690: ConvergenceWarning: Stochastic Optimizer: Maximum iterations (200) reached and the optimization hasn't converged yet.\n",
      "  warnings.warn(\n",
      "/Users/irellzane/anaconda3/envs/irellenv/lib/python3.12/site-packages/sklearn/neural_network/_multilayer_perceptron.py:690: ConvergenceWarning: Stochastic Optimizer: Maximum iterations (200) reached and the optimization hasn't converged yet.\n",
      "  warnings.warn(\n",
      "/Users/irellzane/anaconda3/envs/irellenv/lib/python3.12/site-packages/sklearn/neural_network/_multilayer_perceptron.py:690: ConvergenceWarning: Stochastic Optimizer: Maximum iterations (200) reached and the optimization hasn't converged yet.\n",
      "  warnings.warn(\n",
      "/Users/irellzane/anaconda3/envs/irellenv/lib/python3.12/site-packages/sklearn/neural_network/_multilayer_perceptron.py:690: ConvergenceWarning: Stochastic Optimizer: Maximum iterations (200) reached and the optimization hasn't converged yet.\n",
      "  warnings.warn(\n",
      "/Users/irellzane/anaconda3/envs/irellenv/lib/python3.12/site-packages/sklearn/neural_network/_multilayer_perceptron.py:690: ConvergenceWarning: Stochastic Optimizer: Maximum iterations (200) reached and the optimization hasn't converged yet.\n",
      "  warnings.warn(\n",
      "/Users/irellzane/anaconda3/envs/irellenv/lib/python3.12/site-packages/sklearn/neural_network/_multilayer_perceptron.py:690: ConvergenceWarning: Stochastic Optimizer: Maximum iterations (200) reached and the optimization hasn't converged yet.\n",
      "  warnings.warn(\n",
      "/Users/irellzane/anaconda3/envs/irellenv/lib/python3.12/site-packages/sklearn/neural_network/_multilayer_perceptron.py:690: ConvergenceWarning: Stochastic Optimizer: Maximum iterations (200) reached and the optimization hasn't converged yet.\n",
      "  warnings.warn(\n"
     ]
    }
   ],
   "source": [
    "for i in range(1, 11):\n",
    "    X_train, X_test, y_train, y_test = train_test_split(X, y, test_size=0.2, random_state=i)\n",
    "    \n",
    "    lr = LinearRegression()\n",
    "    lr_mae = train_and_evaluate(lr, X_train, X_test, y_train, y_test)\n",
    "    linear_maes.append(lr_mae)\n",
    "    \n",
    "    mlp_no_activation = MLPRegressor(hidden_layer_sizes=(10, 10), activation='identity', random_state=0)\n",
    "    mlp_no_activation_mae = train_and_evaluate(mlp_no_activation, X_train, X_test, y_train, y_test)\n",
    "    mlp_no_activation_maes.append(mlp_no_activation_mae)\n",
    "    \n",
    "    mlp_relu = MLPRegressor(hidden_layer_sizes=(10, 10), activation='relu', random_state=0)\n",
    "    mlp_relu_mae = train_and_evaluate(mlp_relu, X_train, X_test, y_train, y_test)\n",
    "    mlp_relu_maes.append(mlp_relu_mae)"
   ]
  },
  {
   "cell_type": "code",
   "execution_count": 52,
   "metadata": {},
   "outputs": [
    {
     "name": "stderr",
     "output_type": "stream",
     "text": [
      "/var/folders/rm/w0ct617n0y1_09qpsz1krsf80000gn/T/ipykernel_25561/3422503996.py:2: MatplotlibDeprecationWarning: The 'labels' parameter of boxplot() has been renamed 'tick_labels' since Matplotlib 3.9; support for the old name will be dropped in 3.11.\n",
      "  plt.boxplot([linear_maes, mlp_no_activation_maes, mlp_relu_maes],\n"
     ]
    },
    {
     "data": {
      "image/png": "[encoded data removed]",
      "text/plain": [
       "<Figure size 1000x600 with 1 Axes>"
      ]
     },
     "metadata": {},
     "output_type": "display_data"
    }
   ],
   "source": [
    "plt.figure(figsize=(10, 6))\n",
    "plt.boxplot([linear_maes, mlp_no_activation_maes, mlp_relu_maes], \n",
    "            labels=['Linear Regression', 'MLP (No Activation)', 'MLP (ReLU)'])\n",
    "plt.title('Test MAE Comparison of Models')\n",
    "plt.ylabel('Mean Absolute Error')\n",
    "plt.show()"
   ]
  }
 ],
 "metadata": {
  "kernelspec": {
   "display_name": "irellenv",
   "language": "python",
   "name": "python3"
  },
  "language_info": {
   "codemirror_mode": {
    "name": "ipython",
    "version": 3
   },
   "file_extension": ".py",
   "mimetype": "text/x-python",
   "name": "python",
   "nbconvert_exporter": "python",
   "pygments_lexer": "ipython3",
   "version": "3.12.6"
  }
 },
 "nbformat": 4,
 "nbformat_minor": 2
}
