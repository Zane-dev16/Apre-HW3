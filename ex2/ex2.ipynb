{
 "cells": [
  {
   "cell_type": "markdown",
   "metadata": {
    "vscode": {
     "languageId": "plaintext"
    }
   },
   "source": [
    "# II Programming and Critical Analysis"
   ]
  },
  {
   "cell_type": "markdown",
   "metadata": {},
   "source": [
    "## Setup"
   ]
  },
  {
   "cell_type": "code",
   "execution_count": 2,
   "metadata": {},
   "outputs": [],
   "source": [
    "import numpy as np\n",
    "import pandas as pd\n",
    "import matplotlib.pyplot as plt\n",
    "\n",
    "from sklearn.neural_network import MLPRegressor\n",
    "from sklearn.metrics import mean_absolute_error\n",
    "from sklearn.model_selection import train_test_split\n",
    "from sklearn.linear_model import LinearRegression"
   ]
  },
  {
   "cell_type": "markdown",
   "metadata": {},
   "source": [
    "## Load Data"
   ]
  },
  {
   "cell_type": "code",
   "execution_count": 3,
   "metadata": {},
   "outputs": [],
   "source": [
    "parkinsons = pd.read_csv(\"Parkinsons data.csv\")"
   ]
  },
  {
   "cell_type": "code",
   "execution_count": 4,
   "metadata": {},
   "outputs": [
    {
     "data": {
      "text/html": [
       "<div>\n",
       "<style scoped>\n",
       "    .dataframe tbody tr th:only-of-type {\n",
       "        vertical-align: middle;\n",
       "    }\n",
       "\n",
       "    .dataframe tbody tr th {\n",
       "        vertical-align: top;\n",
       "    }\n",
       "\n",
       "    .dataframe thead th {\n",
       "        text-align: right;\n",
       "    }\n",
       "</style>\n",
       "<table border=\"1\" class=\"dataframe\">\n",
       "  <thead>\n",
       "    <tr style=\"text-align: right;\">\n",
       "      <th></th>\n",
       "      <th>age</th>\n",
       "      <th>sex</th>\n",
       "      <th>test_time</th>\n",
       "      <th>Jitter(%)</th>\n",
       "      <th>Jitter(Abs)</th>\n",
       "      <th>Jitter:RAP</th>\n",
       "      <th>Jitter:PPQ5</th>\n",
       "      <th>Jitter:DDP</th>\n",
       "      <th>Shimmer</th>\n",
       "      <th>Shimmer(dB)</th>\n",
       "      <th>Shimmer:APQ3</th>\n",
       "      <th>Shimmer:APQ5</th>\n",
       "      <th>Shimmer:APQ11</th>\n",
       "      <th>Shimmer:DDA</th>\n",
       "      <th>NHR</th>\n",
       "      <th>HNR</th>\n",
       "      <th>RPDE</th>\n",
       "      <th>DFA</th>\n",
       "      <th>PPE</th>\n",
       "      <th>target</th>\n",
       "    </tr>\n",
       "  </thead>\n",
       "  <tbody>\n",
       "    <tr>\n",
       "      <th>0</th>\n",
       "      <td>0.815695</td>\n",
       "      <td>-0.682509</td>\n",
       "      <td>-1.632090</td>\n",
       "      <td>0.082905</td>\n",
       "      <td>-0.284242</td>\n",
       "      <td>0.327453</td>\n",
       "      <td>-0.028637</td>\n",
       "      <td>0.328505</td>\n",
       "      <td>-0.324594</td>\n",
       "      <td>-0.351642</td>\n",
       "      <td>-0.209709</td>\n",
       "      <td>-0.423356</td>\n",
       "      <td>-0.543466</td>\n",
       "      <td>-0.209704</td>\n",
       "      <td>-0.298721</td>\n",
       "      <td>-0.009205</td>\n",
       "      <td>-1.214066</td>\n",
       "      <td>-1.478500</td>\n",
       "      <td>-0.650658</td>\n",
       "      <td>34.398</td>\n",
       "    </tr>\n",
       "    <tr>\n",
       "      <th>1</th>\n",
       "      <td>0.815695</td>\n",
       "      <td>-0.682509</td>\n",
       "      <td>-1.500676</td>\n",
       "      <td>-0.560793</td>\n",
       "      <td>-0.756723</td>\n",
       "      <td>-0.533746</td>\n",
       "      <td>-0.476212</td>\n",
       "      <td>-0.534825</td>\n",
       "      <td>-0.534016</td>\n",
       "      <td>-0.573156</td>\n",
       "      <td>-0.545158</td>\n",
       "      <td>-0.565592</td>\n",
       "      <td>-0.529955</td>\n",
       "      <td>-0.545153</td>\n",
       "      <td>-0.351965</td>\n",
       "      <td>1.282650</td>\n",
       "      <td>-1.055119</td>\n",
       "      <td>-1.247880</td>\n",
       "      <td>-1.218585</td>\n",
       "      <td>34.894</td>\n",
       "    </tr>\n",
       "    <tr>\n",
       "      <th>2</th>\n",
       "      <td>0.815695</td>\n",
       "      <td>-0.682509</td>\n",
       "      <td>-1.369410</td>\n",
       "      <td>-0.238944</td>\n",
       "      <td>-0.539382</td>\n",
       "      <td>-0.300038</td>\n",
       "      <td>-0.320767</td>\n",
       "      <td>-0.298983</td>\n",
       "      <td>-0.669115</td>\n",
       "      <td>-0.564469</td>\n",
       "      <td>-0.741592</td>\n",
       "      <td>-0.702426</td>\n",
       "      <td>-0.645545</td>\n",
       "      <td>-0.741587</td>\n",
       "      <td>-0.199370</td>\n",
       "      <td>0.318711</td>\n",
       "      <td>-0.784860</td>\n",
       "      <td>-1.540139</td>\n",
       "      <td>-0.103280</td>\n",
       "      <td>35.389</td>\n",
       "    </tr>\n",
       "  </tbody>\n",
       "</table>\n",
       "</div>"
      ],
      "text/plain": [
       "        age       sex  test_time  Jitter(%)  Jitter(Abs)  Jitter:RAP  \\\n",
       "0  0.815695 -0.682509  -1.632090   0.082905    -0.284242    0.327453   \n",
       "1  0.815695 -0.682509  -1.500676  -0.560793    -0.756723   -0.533746   \n",
       "2  0.815695 -0.682509  -1.369410  -0.238944    -0.539382   -0.300038   \n",
       "\n",
       "   Jitter:PPQ5  Jitter:DDP   Shimmer  Shimmer(dB)  Shimmer:APQ3  Shimmer:APQ5  \\\n",
       "0    -0.028637    0.328505 -0.324594    -0.351642     -0.209709     -0.423356   \n",
       "1    -0.476212   -0.534825 -0.534016    -0.573156     -0.545158     -0.565592   \n",
       "2    -0.320767   -0.298983 -0.669115    -0.564469     -0.741592     -0.702426   \n",
       "\n",
       "   Shimmer:APQ11  Shimmer:DDA       NHR       HNR      RPDE       DFA  \\\n",
       "0      -0.543466    -0.209704 -0.298721 -0.009205 -1.214066 -1.478500   \n",
       "1      -0.529955    -0.545153 -0.351965  1.282650 -1.055119 -1.247880   \n",
       "2      -0.645545    -0.741587 -0.199370  0.318711 -0.784860 -1.540139   \n",
       "\n",
       "        PPE  target  \n",
       "0 -0.650658  34.398  \n",
       "1 -1.218585  34.894  \n",
       "2 -0.103280  35.389  "
      ]
     },
     "execution_count": 4,
     "metadata": {},
     "output_type": "execute_result"
    }
   ],
   "source": [
    "parkinsons.head(3)"
   ]
  },
  {
   "cell_type": "markdown",
   "metadata": {},
   "source": [
    "## Separate Labels"
   ]
  },
  {
   "cell_type": "code",
   "execution_count": 5,
   "metadata": {},
   "outputs": [
    {
     "data": {
      "text/plain": [
       "pandas.core.frame.DataFrame"
      ]
     },
     "execution_count": 5,
     "metadata": {},
     "output_type": "execute_result"
    }
   ],
   "source": [
    "type(parkinsons)"
   ]
  },
  {
   "cell_type": "code",
   "execution_count": 6,
   "metadata": {},
   "outputs": [],
   "source": [
    "y = parkinsons[\"target\"]\n",
    "X = parkinsons.drop(\"target\", axis=1)"
   ]
  },
  {
   "cell_type": "markdown",
   "metadata": {},
   "source": [
    "## 5"
   ]
  },
  {
   "cell_type": "markdown",
   "metadata": {},
   "source": [
    "### Split dataset"
   ]
  },
  {
   "cell_type": "code",
   "execution_count": 7,
   "metadata": {},
   "outputs": [],
   "source": [
    "def train_and_evaluate(model, X_train, X_test, y_train, y_test):\n",
    "    model.fit(X_train, y_train)\n",
    "    y_pred = model.predict(X_test)\n",
    "    return mean_absolute_error(y_test, y_pred)"
   ]
  },
  {
   "cell_type": "code",
   "execution_count": 18,
   "metadata": {},
   "outputs": [],
   "source": [
    "model_creators = {\n",
    "    'Linear Regression': lambda: LinearRegression(),\n",
    "    'MLP (No Activation)': lambda: MLPRegressor(hidden_layer_sizes=(10, 10), activation='identity', random_state=0),\n",
    "    'MLP (ReLU)': lambda: MLPRegressor(hidden_layer_sizes=(10, 10), activation='relu', random_state=0)\n",
    "}\n",
    "\n",
    "mae_results = {name: [] for name in model_creators}"
   ]
  },
  {
   "cell_type": "code",
   "execution_count": 19,
   "metadata": {},
   "outputs": [
    {
     "name": "stderr",
     "output_type": "stream",
     "text": [
      "/mnt/win/Users/user/Documents/Apre/Apre-HW3/.venv/lib/python3.12/site-packages/sklearn/neural_network/_multilayer_perceptron.py:690: ConvergenceWarning: Stochastic Optimizer: Maximum iterations (200) reached and the optimization hasn't converged yet.\n",
      "  warnings.warn(\n",
      "/mnt/win/Users/user/Documents/Apre/Apre-HW3/.venv/lib/python3.12/site-packages/sklearn/neural_network/_multilayer_perceptron.py:690: ConvergenceWarning: Stochastic Optimizer: Maximum iterations (200) reached and the optimization hasn't converged yet.\n",
      "  warnings.warn(\n",
      "/mnt/win/Users/user/Documents/Apre/Apre-HW3/.venv/lib/python3.12/site-packages/sklearn/neural_network/_multilayer_perceptron.py:690: ConvergenceWarning: Stochastic Optimizer: Maximum iterations (200) reached and the optimization hasn't converged yet.\n",
      "  warnings.warn(\n",
      "/mnt/win/Users/user/Documents/Apre/Apre-HW3/.venv/lib/python3.12/site-packages/sklearn/neural_network/_multilayer_perceptron.py:690: ConvergenceWarning: Stochastic Optimizer: Maximum iterations (200) reached and the optimization hasn't converged yet.\n",
      "  warnings.warn(\n",
      "/mnt/win/Users/user/Documents/Apre/Apre-HW3/.venv/lib/python3.12/site-packages/sklearn/neural_network/_multilayer_perceptron.py:690: ConvergenceWarning: Stochastic Optimizer: Maximum iterations (200) reached and the optimization hasn't converged yet.\n",
      "  warnings.warn(\n",
      "/mnt/win/Users/user/Documents/Apre/Apre-HW3/.venv/lib/python3.12/site-packages/sklearn/neural_network/_multilayer_perceptron.py:690: ConvergenceWarning: Stochastic Optimizer: Maximum iterations (200) reached and the optimization hasn't converged yet.\n",
      "  warnings.warn(\n",
      "/mnt/win/Users/user/Documents/Apre/Apre-HW3/.venv/lib/python3.12/site-packages/sklearn/neural_network/_multilayer_perceptron.py:690: ConvergenceWarning: Stochastic Optimizer: Maximum iterations (200) reached and the optimization hasn't converged yet.\n",
      "  warnings.warn(\n",
      "/mnt/win/Users/user/Documents/Apre/Apre-HW3/.venv/lib/python3.12/site-packages/sklearn/neural_network/_multilayer_perceptron.py:690: ConvergenceWarning: Stochastic Optimizer: Maximum iterations (200) reached and the optimization hasn't converged yet.\n",
      "  warnings.warn(\n",
      "/mnt/win/Users/user/Documents/Apre/Apre-HW3/.venv/lib/python3.12/site-packages/sklearn/neural_network/_multilayer_perceptron.py:690: ConvergenceWarning: Stochastic Optimizer: Maximum iterations (200) reached and the optimization hasn't converged yet.\n",
      "  warnings.warn(\n",
      "/mnt/win/Users/user/Documents/Apre/Apre-HW3/.venv/lib/python3.12/site-packages/sklearn/neural_network/_multilayer_perceptron.py:690: ConvergenceWarning: Stochastic Optimizer: Maximum iterations (200) reached and the optimization hasn't converged yet.\n",
      "  warnings.warn(\n"
     ]
    }
   ],
   "source": [
    "for i in range(1, 11):\n",
    "    X_train, X_test, y_train, y_test = train_test_split(X, y, test_size=0.2, random_state=i)\n",
    "    \n",
    "    for name, create_model in model_creators.items():\n",
    "        model = create_model() \n",
    "        mae = train_and_evaluate(model, X_train, X_test, y_train, y_test)\n",
    "        mae_results[name].append(mae)"
   ]
  },
  {
   "cell_type": "code",
   "execution_count": 20,
   "metadata": {},
   "outputs": [
    {
     "name": "stderr",
     "output_type": "stream",
     "text": [
      "/tmp/ipykernel_23225/4160531114.py:2: MatplotlibDeprecationWarning: The 'labels' parameter of boxplot() has been renamed 'tick_labels' since Matplotlib 3.9; support for the old name will be dropped in 3.11.\n",
      "  plt.boxplot(list(mae_results.values()), labels=list(mae_results.keys()))\n"
     ]
    },
    {
     "data": {
      "image/png": "[encoded data removed]",
      "text/plain": [
       "<Figure size 1000x600 with 1 Axes>"
      ]
     },
     "metadata": {},
     "output_type": "display_data"
    }
   ],
   "source": [
    "plt.figure(figsize=(10, 6))\n",
    "plt.boxplot(list(mae_results.values()), labels=list(mae_results.keys()))\n",
    "plt.title('Test MAE Comparison of Models')\n",
    "plt.ylabel('Mean Absolute Error')\n",
    "plt.show()"
   ]
  },
  {
   "cell_type": "markdown",
   "metadata": {},
   "source": [
    "## 6\n",
    "As we can see, Linear Regression and MLP with no activation perform pratically the same, even with 2 hidden layers of 10 neurons.\n",
    "\n",
    "The main problem with using no activation in the MLP, this is, using the linear unit, is that the model will be unable to approximate non-linear functions well, this is because an MLP without activation is in practice equivalent to linear regression.\n",
    "\n",
    "This is corroborated by the box plot, as no activation MLP performs similarly to Linear Regression, but MLP with a Rectified LU activation performs much better with a smaller MAE.\n"
   ]
  },
  {
   "cell_type": "markdown",
   "metadata": {},
   "source": [
    "## 7"
   ]
  },
  {
   "cell_type": "code",
   "execution_count": 41,
   "metadata": {},
   "outputs": [],
   "source": [
    "params = {\n",
    "  'batch_size': [32, 64, 128],\n",
    "  'learning_rate_init': [0.001, 0.01, 0.1],\n",
    "  'alpha': [0.0001, 0.001, 0.01]\n",
    "}\n",
    "\n",
    "X_train, X_test, y_train, y_test = train_test_split(X, y, test_size=0.2, random_state=0)\n"
   ]
  },
  {
   "cell_type": "code",
   "execution_count": 112,
   "metadata": {},
   "outputs": [
    {
     "name": "stderr",
     "output_type": "stream",
     "text": [
      "/mnt/win/Users/user/Documents/Apre/Apre-HW3/.venv/lib/python3.12/site-packages/sklearn/neural_network/_multilayer_perceptron.py:690: ConvergenceWarning: Stochastic Optimizer: Maximum iterations (200) reached and the optimization hasn't converged yet.\n",
      "  warnings.warn(\n",
      "/mnt/win/Users/user/Documents/Apre/Apre-HW3/.venv/lib/python3.12/site-packages/sklearn/neural_network/_multilayer_perceptron.py:690: ConvergenceWarning: Stochastic Optimizer: Maximum iterations (200) reached and the optimization hasn't converged yet.\n",
      "  warnings.warn(\n",
      "/mnt/win/Users/user/Documents/Apre/Apre-HW3/.venv/lib/python3.12/site-packages/sklearn/neural_network/_multilayer_perceptron.py:690: ConvergenceWarning: Stochastic Optimizer: Maximum iterations (200) reached and the optimization hasn't converged yet.\n",
      "  warnings.warn(\n",
      "/mnt/win/Users/user/Documents/Apre/Apre-HW3/.venv/lib/python3.12/site-packages/sklearn/neural_network/_multilayer_perceptron.py:690: ConvergenceWarning: Stochastic Optimizer: Maximum iterations (200) reached and the optimization hasn't converged yet.\n",
      "  warnings.warn(\n",
      "/mnt/win/Users/user/Documents/Apre/Apre-HW3/.venv/lib/python3.12/site-packages/sklearn/neural_network/_multilayer_perceptron.py:690: ConvergenceWarning: Stochastic Optimizer: Maximum iterations (200) reached and the optimization hasn't converged yet.\n",
      "  warnings.warn(\n",
      "/mnt/win/Users/user/Documents/Apre/Apre-HW3/.venv/lib/python3.12/site-packages/sklearn/neural_network/_multilayer_perceptron.py:690: ConvergenceWarning: Stochastic Optimizer: Maximum iterations (200) reached and the optimization hasn't converged yet.\n",
      "  warnings.warn(\n",
      "/mnt/win/Users/user/Documents/Apre/Apre-HW3/.venv/lib/python3.12/site-packages/sklearn/neural_network/_multilayer_perceptron.py:690: ConvergenceWarning: Stochastic Optimizer: Maximum iterations (200) reached and the optimization hasn't converged yet.\n",
      "  warnings.warn(\n",
      "/mnt/win/Users/user/Documents/Apre/Apre-HW3/.venv/lib/python3.12/site-packages/sklearn/neural_network/_multilayer_perceptron.py:690: ConvergenceWarning: Stochastic Optimizer: Maximum iterations (200) reached and the optimization hasn't converged yet.\n",
      "  warnings.warn(\n",
      "/mnt/win/Users/user/Documents/Apre/Apre-HW3/.venv/lib/python3.12/site-packages/sklearn/neural_network/_multilayer_perceptron.py:690: ConvergenceWarning: Stochastic Optimizer: Maximum iterations (200) reached and the optimization hasn't converged yet.\n",
      "  warnings.warn(\n",
      "/mnt/win/Users/user/Documents/Apre/Apre-HW3/.venv/lib/python3.12/site-packages/sklearn/neural_network/_multilayer_perceptron.py:690: ConvergenceWarning: Stochastic Optimizer: Maximum iterations (200) reached and the optimization hasn't converged yet.\n",
      "  warnings.warn(\n",
      "/mnt/win/Users/user/Documents/Apre/Apre-HW3/.venv/lib/python3.12/site-packages/sklearn/neural_network/_multilayer_perceptron.py:690: ConvergenceWarning: Stochastic Optimizer: Maximum iterations (200) reached and the optimization hasn't converged yet.\n",
      "  warnings.warn(\n",
      "/mnt/win/Users/user/Documents/Apre/Apre-HW3/.venv/lib/python3.12/site-packages/sklearn/neural_network/_multilayer_perceptron.py:690: ConvergenceWarning: Stochastic Optimizer: Maximum iterations (200) reached and the optimization hasn't converged yet.\n",
      "  warnings.warn(\n",
      "/mnt/win/Users/user/Documents/Apre/Apre-HW3/.venv/lib/python3.12/site-packages/sklearn/neural_network/_multilayer_perceptron.py:690: ConvergenceWarning: Stochastic Optimizer: Maximum iterations (200) reached and the optimization hasn't converged yet.\n",
      "  warnings.warn(\n"
     ]
    },
    {
     "data": {
      "text/plain": [
       "[[[4.613615432822117, 4.616149690432312, 4.629431573044912],\n",
       "  [4.563311573351935, 3.6509601112712984, 4.806363538950318],\n",
       "  [5.120097807584959, 5.688975627705023, 6.438345435584971]],\n",
       " [[4.896498787615926, 4.905205127971713, 4.896917372338429],\n",
       "  [4.335293325591365, 4.648430940003702, 4.531847094595358],\n",
       "  [4.885892487481562, 6.637395888182, 5.659605405931181]],\n",
       " [[5.457825088557079, 5.454934918511987, 5.459818871432259],\n",
       "  [4.428649685542129, 4.56292520186524, 4.561226273461671],\n",
       "  [4.387150661966637, 5.373966286354446, 4.213453185697538]]]"
      ]
     },
     "execution_count": 112,
     "metadata": {},
     "output_type": "execute_result"
    }
   ],
   "source": [
    "results = []\n",
    "for size in params['batch_size']:\n",
    "  rate_results = []\n",
    "  for rate in params['learning_rate_init']:\n",
    "    alpha_results = []\n",
    "    for alpha in params['alpha']:\n",
    "      model = MLPRegressor(hidden_layer_sizes=(10, 10), batch_size=size, alpha=alpha, learning_rate_init=rate, random_state=0)\n",
    "      mae = train_and_evaluate(model, X_train, X_test, y_train, y_test)\n",
    "      alpha_results += [float(mae)]\n",
    "    rate_results += [alpha_results]\n",
    "  results += [rate_results]\n",
    "results"
   ]
  },
  {
   "cell_type": "code",
   "execution_count": 142,
   "metadata": {},
   "outputs": [
    {
     "name": "stdout",
     "output_type": "stream",
     "text": [
      "Batch size = 32\n"
     ]
    },
    {
     "data": {
      "image/png": "[encoded data removed]",
      "text/plain": [
       "<Figure size 640x480 with 1 Axes>"
      ]
     },
     "metadata": {},
     "output_type": "display_data"
    },
    {
     "name": "stdout",
     "output_type": "stream",
     "text": [
      "Batch size = 64\n"
     ]
    },
    {
     "data": {
      "image/png": "[encoded data removed]",
      "text/plain": [
       "<Figure size 640x480 with 1 Axes>"
      ]
     },
     "metadata": {},
     "output_type": "display_data"
    },
    {
     "name": "stdout",
     "output_type": "stream",
     "text": [
      "Batch size = 128\n"
     ]
    },
    {
     "data": {
      "image/png": "[encoded data removed]",
      "text/plain": [
       "<Figure size 640x480 with 1 Axes>"
      ]
     },
     "metadata": {},
     "output_type": "display_data"
    }
   ],
   "source": [
    "print(\"Batch size =\", params['batch_size'][0])\n",
    "fig, ax = plt.subplots()\n",
    "values=results[0]\n",
    "ax.matshow(values, cmap='plasma')\n",
    "for (i, j), z in np.ndenumerate(values):\n",
    "    ax.text(j, i, '{:0.1f}'.format(z), ha='center', va='center')\n",
    "ax.set_xlabel(\"L2 Penalty\")\n",
    "ax.set_ylabel(\"Learning Rate\")\n",
    "plt.setp(ax, xticks=range(3), xticklabels=params['alpha'], yticks=range(3), yticklabels=params['learning_rate_init'])\n",
    "plt.show()\n",
    "\n",
    "print(\"Batch size =\", params['batch_size'][1])\n",
    "fig, ax = plt.subplots()\n",
    "values=results[1]\n",
    "ax.matshow(values, cmap='plasma')\n",
    "for (i, j), z in np.ndenumerate(values):\n",
    "    ax.text(j, i, '{:0.1f}'.format(z), ha='center', va='center')\n",
    "ax.set_xlabel(\"L2 Penalty\")\n",
    "ax.set_ylabel(\"Learning Rate\")\n",
    "plt.setp(ax, xticks=range(3), xticklabels=params['alpha'], yticks=range(3), yticklabels=params['learning_rate_init'])\n",
    "plt.show()\n",
    "\n",
    "print(\"Batch size =\", params['batch_size'][2])\n",
    "fig, ax = plt.subplots()\n",
    "values=results[2]\n",
    "ax.matshow(values, cmap='plasma')\n",
    "for (i, j), z in np.ndenumerate(values):\n",
    "    ax.text(j, i, '{:0.1f}'.format(z), ha='center', va='center')\n",
    "ax.set_xlabel(\"L2 Penalty\")\n",
    "ax.set_ylabel(\"Learning Rate\")\n",
    "plt.setp(ax, xticks=range(3), xticklabels=params['alpha'], yticks=range(3), yticklabels=params['learning_rate_init'])\n",
    "plt.show()"
   ]
  },
  {
   "cell_type": "markdown",
   "metadata": {},
   "source": [
    "According to our grid search, the best combination of hyperparameters seems to be a batch size of 32, a learning rate of 0.01 and a L2 Penalty of 0.001. With the 80-20 train-test split it performed with a Mean Absolute Error of 3.7 which is below the alternatives.\n",
    "\n",
    "With a very low learning rate of 0.001 the model doesn't seem to perform very well, and seems to not be affected by the L2 Penalty, this might be because it converges very little, since it stops at 200 iterations.\n",
    "\n",
    "A learning rate of 0.01 seems to perform usually the best, while a learning rate of 0.1 is, as expected, more chaotic than the rest.\n",
    "The batch size doesn't seem to have a big impact but smaller learning rates perform better with smaller batch sizes and larger batch sizes with greater learning rates."
   ]
  }
 ],
 "metadata": {
  "kernelspec": {
   "display_name": "irellenv",
   "language": "python",
   "name": "python3"
  },
  "language_info": {
   "codemirror_mode": {
    "name": "ipython",
    "version": 3
   },
   "file_extension": ".py",
   "mimetype": "text/x-python",
   "name": "python",
   "nbconvert_exporter": "python",
   "pygments_lexer": "ipython3",
   "version": "3.12.4"
  }
 },
 "nbformat": 4,
 "nbformat_minor": 2
}
